{
 "cells": [
  {
   "cell_type": "code",
   "execution_count": 1,
   "id": "caf8a20e",
   "metadata": {},
   "outputs": [
    {
     "name": "stdout",
     "output_type": "stream",
     "text": [
      "El elemento 8 se encuentra en la posición 7.\n",
      "La suma de la lista [1, 2, 3, 4, 5] es: 15\n",
      "La cadena original es: Python\n",
      "La cadena invertida es: nohtyP\n"
     ]
    }
   ],
   "source": [
    "# Función búsqueda binaria recursiva\n",
    "def busqueda_binaria_recursiva(lista, elemento, inicio=0, fin=None):\n",
    "    if fin is None:\n",
    "        fin = len(lista) - 1\n",
    "\n",
    "    if inicio > fin:\n",
    "        raise ValueError(f\"{elemento} no se encuentra en la lista.\")\n",
    "\n",
    "    medio = (inicio + fin) // 2\n",
    "\n",
    "    if lista[medio] == elemento:\n",
    "        return medio\n",
    "    elif lista[medio] < elemento:\n",
    "        return busqueda_binaria_recursiva(lista, elemento, medio + 1, fin)\n",
    "    else:\n",
    "        return busqueda_binaria_recursiva(lista, elemento, inicio, medio - 1)\n",
    "\n",
    "\n",
    "# Función recursiva, sumar los elementos de una lista\n",
    "def suma_lista(lista):\n",
    "    if not lista:\n",
    "        return 0\n",
    "    else:\n",
    "        return lista[0] + suma_lista(lista[1:])\n",
    "\n",
    "\n",
    "# Función recursiva, invertir una cadena\n",
    "def invertir_cadena(cadena):\n",
    "    if not cadena:\n",
    "        return \"\"\n",
    "    else:\n",
    "        return cadena[-1] + invertir_cadena(cadena[:-1])\n",
    "\n",
    "\n",
    "# Ejemplos \n",
    "lista_ordenada = [1, 2, 3, 4, 5, 6, 7, 8, 9, 10]\n",
    "elemento_a_buscar = 8\n",
    "\n",
    "try:\n",
    "    indice_encontrado = busqueda_binaria_recursiva(lista_ordenada, elemento_a_buscar)\n",
    "    print(f\"El elemento {elemento_a_buscar} se encuentra en la posición {indice_encontrado}.\")\n",
    "except ValueError as e:\n",
    "    print(e)\n",
    "\n",
    "lista_numeros = [1, 2, 3, 4, 5]\n",
    "print(f\"La suma de la lista {lista_numeros} es: {suma_lista(lista_numeros)}\")\n",
    "\n",
    "cadena_original = \"Python\"\n",
    "cadena_invertida = invertir_cadena(cadena_original)\n",
    "print(f\"La cadena original es: {cadena_original}\")\n",
    "print(f\"La cadena invertida es: {cadena_invertida}\")"
   ]
  },
  {
   "cell_type": "code",
   "execution_count": null,
   "id": "b62c9cbc",
   "metadata": {},
   "outputs": [],
   "source": []
  }
 ],
 "metadata": {
  "kernelspec": {
   "display_name": "Python 3 (ipykernel)",
   "language": "python",
   "name": "python3"
  },
  "language_info": {
   "codemirror_mode": {
    "name": "ipython",
    "version": 3
   },
   "file_extension": ".py",
   "mimetype": "text/x-python",
   "name": "python",
   "nbconvert_exporter": "python",
   "pygments_lexer": "ipython3",
   "version": "3.11.4"
  }
 },
 "nbformat": 4,
 "nbformat_minor": 5
}

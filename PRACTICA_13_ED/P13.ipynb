{
 "cells": [
  {
   "cell_type": "code",
   "execution_count": 2,
   "id": "513d905d",
   "metadata": {},
   "outputs": [
    {
     "name": "stdout",
     "output_type": "stream",
     "text": [
      "La pila de libros está vacía.\n",
      "Libro 'Cien años de soledad' prestado con éxito.\n",
      "Libros prestados actualmente:\n",
      " - Cien años de soledad\n",
      "Libro 'Don Quijote de la Mancha' prestado con éxito.\n",
      "Libros prestados actualmente:\n",
      " - Don Quijote de la Mancha\n",
      " - Cien años de soledad\n",
      "Libro 'Cien años de soledad' devuelto con éxito.\n",
      "Libros prestados actualmente:\n",
      " - Don Quijote de la Mancha\n"
     ]
    }
   ],
   "source": [
    "class Biblioteca:\n",
    "    def __init__(self):\n",
    "        self.pila_libros = []\n",
    "\n",
    "    def prestar_libro(self, libro):\n",
    "        if libro not in self.pila_libros:\n",
    "            self.pila_libros.append(libro)\n",
    "            print(f\"Libro '{libro}' prestado con éxito.\")\n",
    "        else:\n",
    "            print(f\"El libro '{libro}' ya está prestado.\")\n",
    "\n",
    "    def devolver_libro(self, libro):\n",
    "        if libro in self.pila_libros:\n",
    "            self.pila_libros.remove(libro)\n",
    "            print(f\"Libro '{libro}' devuelto con éxito.\")\n",
    "        else:\n",
    "            print(f\"El libro '{libro}' no estaba prestado.\")\n",
    "\n",
    "    def mostrar_estado(self):\n",
    "        if not self.pila_libros:\n",
    "            print(\"La pila de libros está vacía.\")\n",
    "        else:\n",
    "            print(\"Libros prestados actualmente:\")\n",
    "            for libro in reversed(self.pila_libros):\n",
    "                print(f\" - {libro}\")\n",
    "\n",
    "\n",
    "mi_biblioteca = Biblioteca()\n",
    "\n",
    "\n",
    "mi_biblioteca.mostrar_estado()\n",
    "\n",
    "mi_biblioteca.prestar_libro(\"Cien años de soledad\")\n",
    "mi_biblioteca.mostrar_estado()\n",
    "\n",
    "mi_biblioteca.prestar_libro(\"Don Quijote de la Mancha\")\n",
    "mi_biblioteca.mostrar_estado()\n",
    "\n",
    "mi_biblioteca.devolver_libro(\"Cien años de soledad\")\n",
    "mi_biblioteca.mostrar_estado()\n"
   ]
  },
  {
   "cell_type": "code",
   "execution_count": 3,
   "id": "f4691cce",
   "metadata": {},
   "outputs": [
    {
     "name": "stdout",
     "output_type": "stream",
     "text": [
      "Cliente1 ha llegado al banco.\n",
      "Cliente2 ha llegado al banco.\n",
      "Cliente3 ha llegado al banco.\n",
      "Atendiendo a Cliente1.\n",
      "Atendiendo a Cliente2.\n",
      "Atendiendo a Cliente3.\n",
      "No hay clientes en la cola.\n"
     ]
    }
   ],
   "source": [
    "from collections import deque\n",
    "\n",
    "class Banco:\n",
    "    def __init__(self):\n",
    "        self.cola_clientes = deque()\n",
    "\n",
    "    def llegar_cliente(self, cliente):\n",
    "        print(f\"{cliente} ha llegado al banco.\")\n",
    "        self.cola_clientes.append(cliente)\n",
    "\n",
    "    def atender_cliente(self):\n",
    "        if len(self.cola_clientes) > 0:\n",
    "            cliente = self.cola_clientes.popleft()\n",
    "            print(f\"Atendiendo a {cliente}.\")\n",
    "        else:\n",
    "            print(\"No hay clientes en la cola.\")\n",
    "\n",
    "def main():\n",
    "    banco = Banco()\n",
    "\n",
    "    banco.llegar_cliente(\"Cliente1\")\n",
    "    banco.llegar_cliente(\"Cliente2\")\n",
    "    banco.llegar_cliente(\"Cliente3\")\n",
    "\n",
    "    banco.atender_cliente()\n",
    "    banco.atender_cliente()\n",
    "    banco.atender_cliente()\n",
    "    banco.atender_cliente()\n",
    "\n",
    "if __name__ == \"__main__\":\n",
    "    main()\n"
   ]
  },
  {
   "cell_type": "code",
   "execution_count": null,
   "id": "984dc907",
   "metadata": {},
   "outputs": [],
   "source": []
  }
 ],
 "metadata": {
  "kernelspec": {
   "display_name": "Python 3 (ipykernel)",
   "language": "python",
   "name": "python3"
  },
  "language_info": {
   "codemirror_mode": {
    "name": "ipython",
    "version": 3
   },
   "file_extension": ".py",
   "mimetype": "text/x-python",
   "name": "python",
   "nbconvert_exporter": "python",
   "pygments_lexer": "ipython3",
   "version": "3.11.4"
  }
 },
 "nbformat": 4,
 "nbformat_minor": 5
}
